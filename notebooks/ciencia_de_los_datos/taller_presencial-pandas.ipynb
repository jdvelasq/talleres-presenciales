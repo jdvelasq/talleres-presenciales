{
  "nbformat": 4,
  "nbformat_minor": 5,
  "metadata": {
    "kernelspec": {
      "display_name": "Python 3",
      "language": "python",
      "name": "python3"
    },
    "language_info": {
      "codemirror_mode": {
        "name": "ipython",
        "version": 3
      },
      "file_extension": ".py",
      "mimetype": "text/x-python",
      "name": "python",
      "nbconvert_exporter": "python",
      "pygments_lexer": "ipython3",
      "version": "3.6.9"
    },
    "colab": {
      "name": "taller_presencial-pandas.ipynb",
      "provenance": []
    }
  },
  "cells": [
    {
      "cell_type": "markdown",
      "metadata": {
        "id": "05c277aa-971a-47e2-9917-085efc2dbe30"
      },
      "source": [
        "Taller Presencial --- Manejo de datos con Pandas\n",
        "==="
      ],
      "id": "05c277aa-971a-47e2-9917-085efc2dbe30"
    },
    {
      "cell_type": "code",
      "metadata": {
        "id": "7577fa91-562b-4240-bf61-725a5cb96dd6",
        "outputId": "99f54c9b-1224-4998-9d47-22cc816592e3",
        "colab": {
          "base_uri": "https://localhost:8080/",
          "height": 598
        }
      },
      "source": [
        "#\n",
        "# El archivo disponible en la dirección presentada a continuación contiene la\n",
        "# información bibliografica de una búsqueda en Scopus\n",
        "#\n",
        "import pandas as pd\n",
        "# pd.set_option(\"display.notebook_repr_html\", False)\n",
        "#\n",
        "# Complete el siguiente código.\n",
        "# https://raw.githubusercontent.com/jdvelasq/datalabs/master/datasets/scopus-papers.csv\n",
        "#\n",
        "scopus = pd.read_csv(\"https://raw.githubusercontent.com/jdvelasq/datalabs/master/datasets/scopus-papers.csv\")\n",
        "scopus.head()"
      ],
      "id": "7577fa91-562b-4240-bf61-725a5cb96dd6",
      "execution_count": 1,
      "outputs": [
        {
          "output_type": "execute_result",
          "data": {
            "text/html": [
              "<div>\n",
              "<style scoped>\n",
              "    .dataframe tbody tr th:only-of-type {\n",
              "        vertical-align: middle;\n",
              "    }\n",
              "\n",
              "    .dataframe tbody tr th {\n",
              "        vertical-align: top;\n",
              "    }\n",
              "\n",
              "    .dataframe thead th {\n",
              "        text-align: right;\n",
              "    }\n",
              "</style>\n",
              "<table border=\"1\" class=\"dataframe\">\n",
              "  <thead>\n",
              "    <tr style=\"text-align: right;\">\n",
              "      <th></th>\n",
              "      <th>Authors</th>\n",
              "      <th>Author(s) ID</th>\n",
              "      <th>Title</th>\n",
              "      <th>Year</th>\n",
              "      <th>Source title</th>\n",
              "      <th>Volume</th>\n",
              "      <th>Issue</th>\n",
              "      <th>Art. No.</th>\n",
              "      <th>Page start</th>\n",
              "      <th>Page end</th>\n",
              "      <th>Page count</th>\n",
              "      <th>Cited by</th>\n",
              "      <th>DOI</th>\n",
              "      <th>Link</th>\n",
              "      <th>Affiliations</th>\n",
              "      <th>Authors with affiliations</th>\n",
              "      <th>Author Keywords</th>\n",
              "      <th>Index Keywords</th>\n",
              "      <th>Document Type</th>\n",
              "      <th>Publication Stage</th>\n",
              "      <th>Access Type</th>\n",
              "      <th>Source</th>\n",
              "      <th>EID</th>\n",
              "    </tr>\n",
              "  </thead>\n",
              "  <tbody>\n",
              "    <tr>\n",
              "      <th>0</th>\n",
              "      <td>Roy K.C., Cebrian M., Hasan S.</td>\n",
              "      <td>57208923159;8724466500;55166094600;</td>\n",
              "      <td>Quantifying human mobility resilience to extre...</td>\n",
              "      <td>2019</td>\n",
              "      <td>EPJ Data Science</td>\n",
              "      <td>8.0</td>\n",
              "      <td>1</td>\n",
              "      <td>18</td>\n",
              "      <td>NaN</td>\n",
              "      <td>NaN</td>\n",
              "      <td>NaN</td>\n",
              "      <td>NaN</td>\n",
              "      <td>10.1140/epjds/s13688-019-0196-6</td>\n",
              "      <td>https://www.scopus.com/inward/record.uri?eid=2...</td>\n",
              "      <td>Department of Civil, Environmental, and Constr...</td>\n",
              "      <td>Roy, K.C., Department of Civil, Environmental,...</td>\n",
              "      <td>Geo-location data; Human mobility; Resilience;...</td>\n",
              "      <td>Disasters; Economics; Social networking (onlin...</td>\n",
              "      <td>Article</td>\n",
              "      <td>Final</td>\n",
              "      <td>Open Access</td>\n",
              "      <td>Scopus</td>\n",
              "      <td>2-s2.0-85066153901</td>\n",
              "    </tr>\n",
              "    <tr>\n",
              "      <th>1</th>\n",
              "      <td>Alizadeh M., Weber I., Cioffi-Revilla C., Fort...</td>\n",
              "      <td>56400437200;8943847500;6603233416;7005680829;5...</td>\n",
              "      <td>Psychology and morality of political extremist...</td>\n",
              "      <td>2019</td>\n",
              "      <td>EPJ Data Science</td>\n",
              "      <td>8.0</td>\n",
              "      <td>1</td>\n",
              "      <td>17</td>\n",
              "      <td>NaN</td>\n",
              "      <td>NaN</td>\n",
              "      <td>NaN</td>\n",
              "      <td>NaN</td>\n",
              "      <td>10.1140/epjds/s13688-019-0193-9</td>\n",
              "      <td>https://www.scopus.com/inward/record.uri?eid=2...</td>\n",
              "      <td>Empirical Studies of Conflict Project, Woodrow...</td>\n",
              "      <td>Alizadeh, M., Empirical Studies of Conflict Pr...</td>\n",
              "      <td>Language analysis; LIWC; Moral foundations the...</td>\n",
              "      <td>Social networking (online); Language analysis;...</td>\n",
              "      <td>Article</td>\n",
              "      <td>Final</td>\n",
              "      <td>Open Access</td>\n",
              "      <td>Scopus</td>\n",
              "      <td>2-s2.0-85065925699</td>\n",
              "    </tr>\n",
              "    <tr>\n",
              "      <th>2</th>\n",
              "      <td>Elejalde E., Ferres L., Schifanella R.</td>\n",
              "      <td>56244803400;14055701500;13605616200;</td>\n",
              "      <td>Understanding news outlets’ audience-targeting...</td>\n",
              "      <td>2019</td>\n",
              "      <td>EPJ Data Science</td>\n",
              "      <td>8.0</td>\n",
              "      <td>1</td>\n",
              "      <td>16</td>\n",
              "      <td>NaN</td>\n",
              "      <td>NaN</td>\n",
              "      <td>NaN</td>\n",
              "      <td>NaN</td>\n",
              "      <td>10.1140/epjds/s13688-019-0194-8</td>\n",
              "      <td>https://www.scopus.com/inward/record.uri?eid=2...</td>\n",
              "      <td>L3S Research Center, Leibniz-University, Hanno...</td>\n",
              "      <td>Elejalde, E., L3S Research Center, Leibniz-Uni...</td>\n",
              "      <td>Gravity model; Media ecosystem; News spreading...</td>\n",
              "      <td>Ecosystems; Regression analysis; Gravity model...</td>\n",
              "      <td>Article</td>\n",
              "      <td>Final</td>\n",
              "      <td>Open Access</td>\n",
              "      <td>Scopus</td>\n",
              "      <td>2-s2.0-85065919884</td>\n",
              "    </tr>\n",
              "    <tr>\n",
              "      <th>3</th>\n",
              "      <td>Ghalmane Z., El Hassouni M., Cherifi C., Cheri...</td>\n",
              "      <td>57205197386;55943083400;36476047200;55999019900;</td>\n",
              "      <td>Centrality in modular networks</td>\n",
              "      <td>2019</td>\n",
              "      <td>EPJ Data Science</td>\n",
              "      <td>8.0</td>\n",
              "      <td>1</td>\n",
              "      <td>15</td>\n",
              "      <td>NaN</td>\n",
              "      <td>NaN</td>\n",
              "      <td>NaN</td>\n",
              "      <td>NaN</td>\n",
              "      <td>10.1140/epjds/s13688-019-0195-7</td>\n",
              "      <td>https://www.scopus.com/inward/record.uri?eid=2...</td>\n",
              "      <td>LRIT URAC No 29, Faculty of Science, Rabat IT ...</td>\n",
              "      <td>Ghalmane, Z., LRIT URAC No 29, Faculty of Scie...</td>\n",
              "      <td>Centrality measures; Community Structure; Infl...</td>\n",
              "      <td>Eigenvalues and eigenfunctions; Viruses; Centr...</td>\n",
              "      <td>Article</td>\n",
              "      <td>Final</td>\n",
              "      <td>Open Access</td>\n",
              "      <td>Scopus</td>\n",
              "      <td>2-s2.0-85065637466</td>\n",
              "    </tr>\n",
              "    <tr>\n",
              "      <th>4</th>\n",
              "      <td>Aiello L.M., Schifanella R., Quercia D., Del P...</td>\n",
              "      <td>25630530900;13605616200;14038000600;57208565917;</td>\n",
              "      <td>Large-scale and high-resolution analysis of fo...</td>\n",
              "      <td>2019</td>\n",
              "      <td>EPJ Data Science</td>\n",
              "      <td>8.0</td>\n",
              "      <td>1</td>\n",
              "      <td>14</td>\n",
              "      <td>NaN</td>\n",
              "      <td>NaN</td>\n",
              "      <td>NaN</td>\n",
              "      <td>NaN</td>\n",
              "      <td>10.1140/epjds/s13688-019-0191-y</td>\n",
              "      <td>https://www.scopus.com/inward/record.uri?eid=2...</td>\n",
              "      <td>Nokia Bell Labs, Cambridge, United Kingdom; Un...</td>\n",
              "      <td>Aiello, L.M., Nokia Bell Labs, Cambridge, Unit...</td>\n",
              "      <td>Cholesterol; Diabetes; Digital purchase record...</td>\n",
              "      <td>Cholesterol; Food supply; Insurance; Medical p...</td>\n",
              "      <td>Article</td>\n",
              "      <td>Final</td>\n",
              "      <td>Open Access</td>\n",
              "      <td>Scopus</td>\n",
              "      <td>2-s2.0-85065148735</td>\n",
              "    </tr>\n",
              "  </tbody>\n",
              "</table>\n",
              "</div>"
            ],
            "text/plain": [
              "                                             Authors  ...                 EID\n",
              "0                     Roy K.C., Cebrian M., Hasan S.  ...  2-s2.0-85066153901\n",
              "1  Alizadeh M., Weber I., Cioffi-Revilla C., Fort...  ...  2-s2.0-85065925699\n",
              "2             Elejalde E., Ferres L., Schifanella R.  ...  2-s2.0-85065919884\n",
              "3  Ghalmane Z., El Hassouni M., Cherifi C., Cheri...  ...  2-s2.0-85065637466\n",
              "4  Aiello L.M., Schifanella R., Quercia D., Del P...  ...  2-s2.0-85065148735\n",
              "\n",
              "[5 rows x 23 columns]"
            ]
          },
          "metadata": {},
          "execution_count": 1
        }
      ]
    },
    {
      "cell_type": "code",
      "metadata": {
        "id": "259198c6-fc5d-4d79-bd72-458d8391df82",
        "outputId": "0787d9a5-72d0-48c0-fe01-e2076545cca0",
        "colab": {
          "base_uri": "https://localhost:8080/"
        }
      },
      "source": [
        "#\n",
        "# La columna 'Authors' contiene los nombres de los autores separados por `,`.\n",
        "#\n",
        "# La columna 'Author(s) ID' contiene los identificadores de los autores. Tenga\n",
        "# en cuenta que existen autores homonimos con diferente ID.\n",
        "#\n",
        "# Genere una lista con los 10 autores con más publicaciones.\n",
        "#\n",
        "import warnings\n",
        "\n",
        "warnings.filterwarnings(\"ignore\")\n",
        "\n",
        "# -----------------------------------------------\n",
        "# Solución como una Series de pandas\n",
        "# \n",
        "documents_by_author = scopus.Authors.str.split(', ')\n",
        "documents_by_author = documents_by_author.explode('Authors')\n",
        "documents_by_author.value_counts().head(10)\n",
        "\n",
        "# -----------------------------------------------\n",
        "# Solución como un dataframe de pandas\n",
        "#\n",
        "# documents_by_author.loc[:, 'Authors'] = documents_by_author.Authors.str.split(', ')\n",
        "# documents_by_author = documents_by_author.groupby().size()\n",
        "# documents_by_author = documents_by_author.groupby('Authors').size()\n",
        "# documents_by_author = documents_by_author.sort_values(ascending=False)\n",
        "# documents_by_author.head(10)\n"
      ],
      "id": "259198c6-fc5d-4d79-bd72-458d8391df82",
      "execution_count": 37,
      "outputs": [
        {
          "output_type": "execute_result",
          "data": {
            "text/plain": [
              "Wang J.              19\n",
              "Khoshgoftaar T.M.    17\n",
              "Li J.                14\n",
              "Wang X.              14\n",
              "Li X.                11\n",
              "Zhang S.             10\n",
              "Zhang X.             10\n",
              "Li Y.                10\n",
              "Zhan J.               9\n",
              "Wang S.               9\n",
              "Name: Authors, dtype: int64"
            ]
          },
          "metadata": {},
          "execution_count": 37
        }
      ]
    },
    {
      "cell_type": "code",
      "metadata": {
        "id": "2JLNoQMIXl5E",
        "outputId": "a3286233-37df-452c-9065-e12bbcbed8b2",
        "colab": {
          "base_uri": "https://localhost:8080/"
        }
      },
      "source": [
        "#\n",
        "documents_by_authors_id = scopus[\"Author(s) ID\"]\n",
        "documents_by_authors_id = documents_by_authors_id.str.replace(';$', '')\n",
        "documents_by_authors_id[documents_by_authors_id == '[No author id available]'] = None\n",
        "documents_by_authors_id = documents_by_authors_id.dropna()\n",
        "documents_by_authors_id = documents_by_authors_id.str.split(';')\n",
        "documents_by_authors_id = documents_by_authors_id.explode('Author(s) ID')\n",
        "documents_by_authors_id.value_counts().head(10)\n"
      ],
      "id": "2JLNoQMIXl5E",
      "execution_count": 79,
      "outputs": [
        {
          "output_type": "execute_result",
          "data": {
            "text/plain": [
              "7006211475     17\n",
              "56120725100     8\n",
              "24402381500     7\n",
              "7102755925      7\n",
              "9743656700      7\n",
              "35577641300     6\n",
              "41861922300     6\n",
              "7402866076      6\n",
              "57208590785     6\n",
              "7004026629      6\n",
              "Name: Author(s) ID, dtype: int64"
            ]
          },
          "metadata": {},
          "execution_count": 79
        }
      ]
    },
    {
      "cell_type": "code",
      "metadata": {
        "id": "K7skr8s5cuRu"
      },
      "source": [
        "authors_and_id = scopus[[\"Authors\", \"Author(s) ID\"]]\n",
        "authors_and_id[authors_and_id['Author(s) ID'] == '[No author id available]'] = None\n",
        "authors_and_id[authors_and_id['Authors'] == '[No author name available]'] = None\n",
        "authors_and_id = authors_and_id.dropna()\n",
        "authors_and_id['Author(s) ID'] = authors_and_id['Author(s) ID'].str.replace(';$', '')\n",
        "\n",
        "authors_dict = {}\n",
        "\n",
        "for row in authors_and_id.iterrows():\n",
        "    authors = row[1][0].split(', ')\n",
        "    ids = row[1][1].split(';')\n",
        "    authors_dict = {**authors_dict, **dict(zip(ids, authors))}\n",
        "\n",
        "# authors_dict"
      ],
      "id": "K7skr8s5cuRu",
      "execution_count": 76,
      "outputs": []
    },
    {
      "cell_type": "code",
      "metadata": {
        "id": "MWhGF5lThMqt",
        "outputId": "2d476186-286c-414e-b89d-ec1a3b9d75fe",
        "colab": {
          "base_uri": "https://localhost:8080/"
        }
      },
      "source": [
        ""
      ],
      "id": "MWhGF5lThMqt",
      "execution_count": 75,
      "outputs": [
        {
          "output_type": "execute_result",
          "data": {
            "text/plain": [
              "0       57208923159\n",
              "1        8724466500\n",
              "2       55166094600\n",
              "3       56400437200\n",
              "4        8943847500\n",
              "           ...     \n",
              "6145     7202435289\n",
              "6146    23052735900\n",
              "6147     6701856179\n",
              "6148     6603089982\n",
              "6149    55887327000\n",
              "Name: Author(s) ID, Length: 6150, dtype: object"
            ]
          },
          "metadata": {},
          "execution_count": 75
        }
      ]
    },
    {
      "cell_type": "code",
      "metadata": {
        "id": "4KKPG_CWhZIy",
        "outputId": "1844d194-ca24-43b9-8dfa-541ac3a4aed7",
        "colab": {
          "base_uri": "https://localhost:8080/"
        }
      },
      "source": [
        "docs_by_author = documents_by_authors_id.value_counts()\n",
        "docs_by_author.index = [authors_dict[author_id] for author_id in docs_by_author.index]\n",
        "docs_by_author"
      ],
      "id": "4KKPG_CWhZIy",
      "execution_count": 82,
      "outputs": [
        {
          "output_type": "execute_result",
          "data": {
            "text/plain": [
              "Khoshgoftaar T.M.    17\n",
              "Hendler J.            8\n",
              "Zhan J.Z.             7\n",
              "Pentland A.           7\n",
              "Musolesi M.           7\n",
              "                     ..\n",
              "Datta A.              1\n",
              "Wang J.               1\n",
              "Jin Y.                1\n",
              "Ramsey G.             1\n",
              "Fragkias M.           1\n",
              "Name: Author(s) ID, Length: 5286, dtype: int64"
            ]
          },
          "metadata": {},
          "execution_count": 82
        }
      ]
    },
    {
      "cell_type": "code",
      "metadata": {
        "id": "o6P0S5eYcuKs",
        "outputId": "69798643-f8de-432d-f2e6-5668c372b0dd",
        "colab": {
          "base_uri": "https://localhost:8080/",
          "height": 227
        }
      },
      "source": [
        "#\n",
        "# Chequeo en busca de casos extraños\n",
        "#\n",
        "display(\n",
        "    scopus['Authors'].sort_values().head(),\n",
        "    scopus['Authors'].sort_values().tail(),\n",
        ")"
      ],
      "id": "o6P0S5eYcuKs",
      "execution_count": 50,
      "outputs": [
        {
          "output_type": "display_data",
          "data": {
            "text/plain": [
              "1417                Aalbersberg I.J., Dunham J., Koers H.\n",
              "1389                             Abbas K., Fu J., Tang Y.\n",
              "1367                            AbdAllah L., Shimshoni I.\n",
              "702                 Abdullatif A., Masulli F., Rovetta S.\n",
              "1845    Abe A., Hagita N., Furutani M., Furutani Y., M...\n",
              "Name: Authors, dtype: object"
            ]
          },
          "metadata": {}
        },
        {
          "output_type": "display_data",
          "data": {
            "text/plain": [
              "1900                           [No author name available]\n",
              "733       di Bella E., Corsi M., Leporatti L., Persico L.\n",
              "926     ur Rehman M.H., Liew C.S., Abbas A., Jayaraman...\n",
              "910     van Altena A.J., Moerland P.D., Zwinderman A.H...\n",
              "481            Óskarsdóttir M., Baesens B., Vanthienen J.\n",
              "Name: Authors, dtype: object"
            ]
          },
          "metadata": {}
        }
      ]
    },
    {
      "cell_type": "code",
      "metadata": {
        "id": "298d06e4-4008-4cbf-aaa9-5d9432fbf99a"
      },
      "source": [
        "#\n",
        "# Genere una lista con los 10 paises con más publicaciones. La columna \n",
        "# 'Affiliations' contiene el país de afiliación de cada autor\n",
        "#"
      ],
      "id": "298d06e4-4008-4cbf-aaa9-5d9432fbf99a",
      "execution_count": null,
      "outputs": []
    },
    {
      "cell_type": "code",
      "metadata": {
        "id": "wgfOr2wbXP35",
        "outputId": "1305bdc9-d38c-4266-8d36-d49b86d1a22b",
        "colab": {
          "base_uri": "https://localhost:8080/"
        }
      },
      "source": [
        "\"a,b,c,d,\".split(',')"
      ],
      "id": "wgfOr2wbXP35",
      "execution_count": 40,
      "outputs": [
        {
          "output_type": "execute_result",
          "data": {
            "text/plain": [
              "['a', 'b', 'c', 'd', '']"
            ]
          },
          "metadata": {},
          "execution_count": 40
        }
      ]
    },
    {
      "cell_type": "code",
      "metadata": {
        "id": "y44el868XP1x",
        "outputId": "578e2b74-b10b-46cd-8661-c65663153763",
        "colab": {
          "base_uri": "https://localhost:8080/"
        }
      },
      "source": [
        "dict([('a', 1), ('b', 2), ('c', 3)])"
      ],
      "id": "y44el868XP1x",
      "execution_count": 58,
      "outputs": [
        {
          "output_type": "execute_result",
          "data": {
            "text/plain": [
              "{'a': 1, 'b': 2, 'c': 3}"
            ]
          },
          "metadata": {},
          "execution_count": 58
        }
      ]
    },
    {
      "cell_type": "code",
      "metadata": {
        "id": "HsDBey63fz1l"
      },
      "source": [
        ""
      ],
      "id": "HsDBey63fz1l",
      "execution_count": null,
      "outputs": []
    }
  ]
}